{
  "nbformat": 4,
  "nbformat_minor": 0,
  "metadata": {
    "colab": {
      "provenance": [],
      "gpuType": "T4"
    },
    "kernelspec": {
      "name": "python3",
      "display_name": "Python 3"
    },
    "language_info": {
      "name": "python"
    },
    "accelerator": "GPU"
  },
  "cells": [
    {
      "cell_type": "code",
      "execution_count": 1,
      "metadata": {
        "colab": {
          "base_uri": "https://localhost:8080/"
        },
        "id": "Vtp1j-LVA63s",
        "outputId": "30feda76-5a6a-4821-9529-cb3978fce943"
      },
      "outputs": [
        {
          "output_type": "stream",
          "name": "stdout",
          "text": [
            "Collecting easyocr\n",
            "  Downloading easyocr-1.7.1-py3-none-any.whl (2.9 MB)\n",
            "\u001b[2K     \u001b[90m━━━━━━━━━━━━━━━━━━━━━━━━━━━━━━━━━━━━━━━━\u001b[0m \u001b[32m2.9/2.9 MB\u001b[0m \u001b[31m27.7 MB/s\u001b[0m eta \u001b[36m0:00:00\u001b[0m\n",
            "\u001b[?25hRequirement already satisfied: torch in /usr/local/lib/python3.10/dist-packages (from easyocr) (2.1.0+cu121)\n",
            "Requirement already satisfied: torchvision>=0.5 in /usr/local/lib/python3.10/dist-packages (from easyocr) (0.16.0+cu121)\n",
            "Requirement already satisfied: opencv-python-headless in /usr/local/lib/python3.10/dist-packages (from easyocr) (4.8.1.78)\n",
            "Requirement already satisfied: scipy in /usr/local/lib/python3.10/dist-packages (from easyocr) (1.11.4)\n",
            "Requirement already satisfied: numpy in /usr/local/lib/python3.10/dist-packages (from easyocr) (1.23.5)\n",
            "Requirement already satisfied: Pillow in /usr/local/lib/python3.10/dist-packages (from easyocr) (9.4.0)\n",
            "Requirement already satisfied: scikit-image in /usr/local/lib/python3.10/dist-packages (from easyocr) (0.19.3)\n",
            "Collecting python-bidi (from easyocr)\n",
            "  Downloading python_bidi-0.4.2-py2.py3-none-any.whl (30 kB)\n",
            "Requirement already satisfied: PyYAML in /usr/local/lib/python3.10/dist-packages (from easyocr) (6.0.1)\n",
            "Requirement already satisfied: Shapely in /usr/local/lib/python3.10/dist-packages (from easyocr) (2.0.2)\n",
            "Collecting pyclipper (from easyocr)\n",
            "  Downloading pyclipper-1.3.0.post5-cp310-cp310-manylinux_2_12_x86_64.manylinux2010_x86_64.whl (908 kB)\n",
            "\u001b[2K     \u001b[90m━━━━━━━━━━━━━━━━━━━━━━━━━━━━━━━━━━━━━━━━\u001b[0m \u001b[32m908.3/908.3 kB\u001b[0m \u001b[31m69.1 MB/s\u001b[0m eta \u001b[36m0:00:00\u001b[0m\n",
            "\u001b[?25hCollecting ninja (from easyocr)\n",
            "  Downloading ninja-1.11.1.1-py2.py3-none-manylinux1_x86_64.manylinux_2_5_x86_64.whl (307 kB)\n",
            "\u001b[2K     \u001b[90m━━━━━━━━━━━━━━━━━━━━━━━━━━━━━━━━━━━━━━━━\u001b[0m \u001b[32m307.2/307.2 kB\u001b[0m \u001b[31m38.9 MB/s\u001b[0m eta \u001b[36m0:00:00\u001b[0m\n",
            "\u001b[?25hRequirement already satisfied: requests in /usr/local/lib/python3.10/dist-packages (from torchvision>=0.5->easyocr) (2.31.0)\n",
            "Requirement already satisfied: filelock in /usr/local/lib/python3.10/dist-packages (from torch->easyocr) (3.13.1)\n",
            "Requirement already satisfied: typing-extensions in /usr/local/lib/python3.10/dist-packages (from torch->easyocr) (4.5.0)\n",
            "Requirement already satisfied: sympy in /usr/local/lib/python3.10/dist-packages (from torch->easyocr) (1.12)\n",
            "Requirement already satisfied: networkx in /usr/local/lib/python3.10/dist-packages (from torch->easyocr) (3.2.1)\n",
            "Requirement already satisfied: jinja2 in /usr/local/lib/python3.10/dist-packages (from torch->easyocr) (3.1.2)\n",
            "Requirement already satisfied: fsspec in /usr/local/lib/python3.10/dist-packages (from torch->easyocr) (2023.6.0)\n",
            "Requirement already satisfied: triton==2.1.0 in /usr/local/lib/python3.10/dist-packages (from torch->easyocr) (2.1.0)\n",
            "Requirement already satisfied: six in /usr/local/lib/python3.10/dist-packages (from python-bidi->easyocr) (1.16.0)\n",
            "Requirement already satisfied: imageio>=2.4.1 in /usr/local/lib/python3.10/dist-packages (from scikit-image->easyocr) (2.31.6)\n",
            "Requirement already satisfied: tifffile>=2019.7.26 in /usr/local/lib/python3.10/dist-packages (from scikit-image->easyocr) (2023.12.9)\n",
            "Requirement already satisfied: PyWavelets>=1.1.1 in /usr/local/lib/python3.10/dist-packages (from scikit-image->easyocr) (1.5.0)\n",
            "Requirement already satisfied: packaging>=20.0 in /usr/local/lib/python3.10/dist-packages (from scikit-image->easyocr) (23.2)\n",
            "Requirement already satisfied: MarkupSafe>=2.0 in /usr/local/lib/python3.10/dist-packages (from jinja2->torch->easyocr) (2.1.3)\n",
            "Requirement already satisfied: charset-normalizer<4,>=2 in /usr/local/lib/python3.10/dist-packages (from requests->torchvision>=0.5->easyocr) (3.3.2)\n",
            "Requirement already satisfied: idna<4,>=2.5 in /usr/local/lib/python3.10/dist-packages (from requests->torchvision>=0.5->easyocr) (3.6)\n",
            "Requirement already satisfied: urllib3<3,>=1.21.1 in /usr/local/lib/python3.10/dist-packages (from requests->torchvision>=0.5->easyocr) (2.0.7)\n",
            "Requirement already satisfied: certifi>=2017.4.17 in /usr/local/lib/python3.10/dist-packages (from requests->torchvision>=0.5->easyocr) (2023.11.17)\n",
            "Requirement already satisfied: mpmath>=0.19 in /usr/local/lib/python3.10/dist-packages (from sympy->torch->easyocr) (1.3.0)\n",
            "Installing collected packages: pyclipper, ninja, python-bidi, easyocr\n",
            "Successfully installed easyocr-1.7.1 ninja-1.11.1.1 pyclipper-1.3.0.post5 python-bidi-0.4.2\n"
          ]
        }
      ],
      "source": [
        "!pip install easyocr"
      ]
    },
    {
      "cell_type": "code",
      "source": [
        "import easyocr\n",
        "\n",
        "languages = ['ch_tra', 'en']\n",
        "reader = easyocr.Reader(languages)\n",
        "\n",
        "result = reader.readtext('/content/drive/MyDrive/AI/S__25853957.jpg')\n",
        "result"
      ],
      "metadata": {
        "colab": {
          "base_uri": "https://localhost:8080/"
        },
        "id": "B5CVjUojB_54",
        "outputId": "6a6ebc8c-fa78-442c-be1f-2d7598b3e919"
      },
      "execution_count": 14,
      "outputs": [
        {
          "output_type": "execute_result",
          "data": {
            "text/plain": [
              "[([[116, 9], [391, 9], [391, 54], [116, 54]],\n",
              "  'LaLaport Taichung',\n",
              "  0.9749970000501034),\n",
              " ([[41, 55], [89, 55], [89, 69], [41, 69]], 'LoLoporf', 0.5335167366386157),\n",
              " ([[117, 55], [179, 55], [179, 91], [117, 91]], '贊助', 0.9996361235034235),\n",
              " ([[20, 95], [431, 95], [431, 140], [20, 140]],\n",
              "  'Lalaport聖誕告白秘訣六揭密',\n",
              "  0.6706034287167756),\n",
              " ([[19, 133], [327, 133], [327, 173], [19, 173]],\n",
              "  '想要脫單就看這次 La!',\n",
              "  0.615630671067167),\n",
              " ([[21, 168], [637, 168], [637, 209], [21, 209]],\n",
              "  'Feat.奇幻一百絢爛未來 迪土尼100主題燈飾',\n",
              "  0.6245746761122105),\n",
              " ([[17, 237], [276, 237], [276, 285], [17, 285]],\n",
              "  '在浪漫的聖誕樹下',\n",
              "  0.9937767842964309),\n",
              " ([[293, 239], [517, 239], [517, 283], [293, 283]],\n",
              "  '獻上最美的花束',\n",
              "  0.9603068526309138),\n",
              " ([[21, 277], [365, 277], [365, 317], [21, 317]],\n",
              "  '與心愛的她一起創造未來',\n",
              "  0.7666669374988279),\n",
              " ([[19, 347], [425, 347], [425, 391], [19, 391]],\n",
              "  '走在炫光空橋二;手牽手邁向',\n",
              "  0.5480062122497033),\n",
              " ([[19, 385], [333, 385], [333, 427], [19, 427]],\n",
              "  '連結嶄新開始的新宇宙',\n",
              "  0.991591938221676),\n",
              " ([[354, 382], [609, 382], [609, 427], [354, 427]],\n",
              "  '是你們瑰麗的未來',\n",
              "  0.9680289230980532),\n",
              " ([[19, 452], [272, 452], [272, 501], [19, 501]],\n",
              "  '見證最幸福的時刻',\n",
              "  0.997925609932553),\n",
              " ([[19, 493], [423, 493], [423, 535], [19, 535]],\n",
              "  '獻上她最愛的迪士尼係列商品',\n",
              "  0.27166854890691744),\n",
              " ([[19, 526], [362, 526], [362, 568], [19, 568]],\n",
              "  '紀念屬於你們的眩爛愛情',\n",
              "  0.9918628053342863),\n",
              " ([[19, 601], [205, 601], [205, 641], [19, 641]],\n",
              "  '你學費了嗎?',\n",
              "  0.9745272014397167),\n",
              " ([[19, 635], [271, 635], [271, 677], [19, 677]],\n",
              "  '還不手刀規劃起來',\n",
              "  0.955395945358868),\n",
              " ([[21, 675], [527, 675], [527, 715], [21, 715]],\n",
              "  '來 LaLaport體驗一場浪漫聖誕約會吧',\n",
              "  0.8131016302226578),\n",
              " ([[17, 745], [566, 745], [566, 788], [17, 788]],\n",
              "  '#台中 #LalLaport #MitsuiShoppingPark',\n",
              "  0.7746303554198278),\n",
              " ([[17, 781], [639, 781], [639, 821], [17, 821]],\n",
              "  '#迪土尼100 #主題燈飾 #奇幻一百#絢爛未來',\n",
              "  0.8620425973417104)]"
            ]
          },
          "metadata": {},
          "execution_count": 14
        }
      ]
    }
  ]
}